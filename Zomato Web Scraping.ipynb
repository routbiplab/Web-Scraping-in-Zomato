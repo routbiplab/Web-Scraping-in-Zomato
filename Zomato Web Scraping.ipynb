{
 "cells": [
  {
   "cell_type": "code",
   "execution_count": 2,
   "id": "105a2cfe",
   "metadata": {},
   "outputs": [],
   "source": [
    "import requests\n",
    "from bs4 import BeautifulSoup"
   ]
  },
  {
   "cell_type": "markdown",
   "id": "41815dcc",
   "metadata": {},
   "source": [
    "# Request to website and storing the response content"
   ]
  },
  {
   "cell_type": "code",
   "execution_count": 4,
   "id": "1c5ccf7b",
   "metadata": {},
   "outputs": [],
   "source": [
    "## Pass the header otherwise it will give Access Denied\n",
    "headers={\"User-Agent\":\"Mozilla/5.0 (Windows NT 10.0; Win64; x64) AppleWebKit/537.36 (KHTML, like Gecko) Chrome/92.0.4515.131 Safari/537.36\"}\n",
    "response=requests.get(\"https://www.zomato.com/kolkata/top-restaurants\",headers=headers)"
   ]
  },
  {
   "cell_type": "code",
   "execution_count": 5,
   "id": "bffd5a1d",
   "metadata": {},
   "outputs": [],
   "source": [
    "content=response.content"
   ]
  },
  {
   "cell_type": "markdown",
   "id": "9bf5a17d",
   "metadata": {},
   "source": [
    "# Retrieve only the html tags from response content using beautiful soup library"
   ]
  },
  {
   "cell_type": "code",
   "execution_count": 6,
   "id": "b50ccf3f",
   "metadata": {
    "scrolled": false
   },
   "outputs": [],
   "source": [
    "## Now retrieve data from the html content using the beautifulsoup library\n",
    "## the soup will only contain the html/web like elements\n",
    "soup=BeautifulSoup(content,\"html.parser\")"
   ]
  },
  {
   "cell_type": "markdown",
   "id": "ca115b2b",
   "metadata": {},
   "source": [
    "# Format the data in soup content"
   ]
  },
  {
   "cell_type": "code",
   "execution_count": 39,
   "id": "dd2a31c3",
   "metadata": {},
   "outputs": [],
   "source": [
    "## Format the data in soup and extract the tags/divs that will contain the relevant information for our case\n",
    "## like rest name,place and cuisine\n",
    "\n",
    "#find all div elements and get all the children under the class mentioned\n",
    "top_rest=soup.find_all(\"div\",attrs={\"class\":\"sc-bke1zw-0 fIuLDK\"})"
   ]
  },
  {
   "cell_type": "code",
   "execution_count": 41,
   "id": "15eba087",
   "metadata": {},
   "outputs": [],
   "source": [
    "rest_list=top_rest[0].find_all(\"div\",attrs={\"class\":\"sc-gnEqpY jcQKdZ\"})"
   ]
  },
  {
   "cell_type": "code",
   "execution_count": 82,
   "id": "b30a6704",
   "metadata": {},
   "outputs": [
    {
     "data": {
      "text/plain": [
       "[{'name': 'Miam Cafe & Bistro',\n",
       "  'cuisines': 'North Indian, BBQ, Beverages',\n",
       "  'place': 'Sector 5, Salt Lake, Kolkata'},\n",
       " {'name': 'Monginis',\n",
       "  'cuisines': 'Bakery, Desserts, Fast Food',\n",
       "  'place': 'Dum Dum, Kolkata'},\n",
       " {'name': 'Gusto Cafe & Kitchen',\n",
       "  'cuisines': 'Continental, North Indian, Fast Food, Chinese, Desserts, Beverages',\n",
       "  'place': 'Golpark, Kolkata'},\n",
       " {'name': 'Wow! China By Wow! Momo',\n",
       "  'cuisines': 'Chinese, Asian',\n",
       "  'place': 'Baghajatin, Kolkata'},\n",
       " {'name': 'Where To Go!',\n",
       "  'cuisines': 'Cafe, Chinese, North Indian, Beverages',\n",
       "  'place': 'Machuabazar, Kolkata'},\n",
       " {'name': \"Officer's Kitchen\",\n",
       "  'cuisines': 'North Indian, Chinese, Bengali',\n",
       "  'place': 'Kasba, Kolkata'},\n",
       " {'name': 'Since 2016 Cafe',\n",
       "  'cuisines': 'Cafe, Fast Food, Bengali, Beverages',\n",
       "  'place': 'Sector 1, Salt Lake, Kolkata'},\n",
       " {'name': 'Four Coins Cafe',\n",
       "  'cuisines': 'Cafe, Italian, Pizza',\n",
       "  'place': 'Lake Gardens, Kolkata'},\n",
       " {'name': 'Round House',\n",
       "  'cuisines': 'Beverages, Continental, Fast Food',\n",
       "  'place': 'Shibpur, Howrah'},\n",
       " {'name': 'Tea Junction',\n",
       "  'cuisines': 'Tea, Fast Food, Beverages',\n",
       "  'place': 'Loudon Street Area, Kolkata'},\n",
       " {'name': 'Skai',\n",
       "  'cuisines': 'Asian, European',\n",
       "  'place': 'Park Circus Area, Kolkata'},\n",
       " {'name': 'Shisha - Bar Stock Exchange',\n",
       "  'cuisines': 'Finger Food',\n",
       "  'place': 'Camac Street Area, Kolkata'},\n",
       " {'name': '10 Downing Street',\n",
       "  'cuisines': 'Continental, North Indian, Chinese',\n",
       "  'place': 'Sector 5, Salt Lake, Kolkata'},\n",
       " {'name': 'Soul- The Sky Lounge',\n",
       "  'cuisines': 'North Indian, Chinese, Thai, Sandwich, Pizza, Beverages',\n",
       "  'place': 'Camac Street Area, Kolkata'},\n",
       " {'name': 'Pub 13',\n",
       "  'cuisines': 'North Indian, Chinese, Continental',\n",
       "  'place': 'Camac Street Area, Kolkata'},\n",
       " {'name': 'Whats in d name',\n",
       "  'cuisines': 'Finger Food, North Indian, Street Food',\n",
       "  'place': 'Camac Street Area, Kolkata'},\n",
       " {'name': 'Farzi Cafe',\n",
       "  'cuisines': 'Modern Indian',\n",
       "  'place': 'Park Street Area, Kolkata'},\n",
       " {'name': 'Haka',\n",
       "  'cuisines': 'Chinese, Beverages',\n",
       "  'place': 'Sector 5, Salt Lake, Kolkata'},\n",
       " {'name': 'Cafe By The Lane',\n",
       "  'cuisines': 'Cafe, Naga, Fast Food',\n",
       "  'place': 'Southern Avenue, Kolkata'},\n",
       " {'name': 'Taco Bell',\n",
       "  'cuisines': 'Mexican, Fast Food, Wraps, Beverages',\n",
       "  'place': 'Prince Anwar Shah Road, Kolkata'},\n",
       " {'name': 'The Pink Salt',\n",
       "  'cuisines': 'Chinese, North Indian, Fast Food, Rolls, Momos',\n",
       "  'place': 'Hazra, Kolkata'},\n",
       " {'name': 'Apna Dhaba',\n",
       "  'cuisines': 'North Indian',\n",
       "  'place': 'Sector 2, Salt Lake, Kolkata'},\n",
       " {'name': 'The Park Restaurant',\n",
       "  'cuisines': 'North Indian, Chinese',\n",
       "  'place': 'Serampore, Kolkata'},\n",
       " {'name': 'Chapter 2',\n",
       "  'cuisines': 'Continental, Desserts, Beverages, Seafood',\n",
       "  'place': 'Southern Avenue, Kolkata'},\n",
       " {'name': 'XII Zodiac\\u202c - The Fern Residency',\n",
       "  'cuisines': 'Chinese, Continental, North Indian',\n",
       "  'place': 'Chinar Park, Kolkata'},\n",
       " {'name': 'The Congo',\n",
       "  'cuisines': 'Chinese, Continental, North Indian, Kebab, Mughlai, Rolls',\n",
       "  'place': 'Shibpur, Howrah'},\n",
       " {'name': 'Himur Heshel',\n",
       "  'cuisines': 'Bengali, North Indian, Bangladeshi',\n",
       "  'place': 'Garia, Kolkata'},\n",
       " {'name': 'The Time Pass Cafe',\n",
       "  'cuisines': 'Cafe, Beverages, Continental, Fast Food, Desserts',\n",
       "  'place': 'Garia, Kolkata'},\n",
       " {'name': 'Starbucks Coffee',\n",
       "  'cuisines': 'Fast Food, Coffee, Desserts',\n",
       "  'place': 'Kasba, Kolkata'},\n",
       " {'name': 'Raj Spanish Cafe',\n",
       "  'cuisines': 'Cafe, Spanish, Italian, Mexican, Salad, American, Beverages, Desserts',\n",
       "  'place': 'New Market Area, Kolkata'}]"
      ]
     },
     "execution_count": 82,
     "metadata": {},
     "output_type": "execute_result"
    }
   ],
   "source": [
    "rest_data=[]\n",
    "for rest in rest_list:\n",
    "    df={}\n",
    "    df['name']=rest.find(\"a\",attrs={\"class\":\"sc-iLVtdg sc-jWNpPo dUFwMm\"}).text\n",
    "    df['cuisines']=rest.find_all(\"div\",attrs={\"class\":\"sc-NGAnU eJTyoN\"})[0].text.replace(u'\\xa0', ' ')\n",
    "    df[\"place\"]=rest.find_all(\"div\",attrs={\"class\":\"sc-NGAnU eJTyoN\"})[1].text.replace(u'\\xa0', ' ')\n",
    "    rest_data.append(df)\n",
    "rest_data"
   ]
  },
  {
   "cell_type": "markdown",
   "id": "cb97ec36",
   "metadata": {},
   "source": [
    "# Save the data in csv file"
   ]
  },
  {
   "cell_type": "code",
   "execution_count": 84,
   "id": "3f621967",
   "metadata": {},
   "outputs": [],
   "source": [
    "import pandas as pd\n",
    "data=pd.DataFrame(rest_data)\n",
    "data.to_csv(\"Top Restaurants in Kolkata.csv\")"
   ]
  },
  {
   "cell_type": "code",
   "execution_count": null,
   "id": "a43bed00",
   "metadata": {},
   "outputs": [],
   "source": []
  },
  {
   "cell_type": "code",
   "execution_count": null,
   "id": "a148b5c9",
   "metadata": {},
   "outputs": [],
   "source": []
  },
  {
   "cell_type": "code",
   "execution_count": null,
   "id": "30b2c982",
   "metadata": {},
   "outputs": [],
   "source": []
  }
 ],
 "metadata": {
  "kernelspec": {
   "display_name": "Python 3",
   "language": "python",
   "name": "python3"
  },
  "language_info": {
   "codemirror_mode": {
    "name": "ipython",
    "version": 3
   },
   "file_extension": ".py",
   "mimetype": "text/x-python",
   "name": "python",
   "nbconvert_exporter": "python",
   "pygments_lexer": "ipython3",
   "version": "3.8.8"
  }
 },
 "nbformat": 4,
 "nbformat_minor": 5
}
